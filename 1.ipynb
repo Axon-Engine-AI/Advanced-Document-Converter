{
 "cells": [
  {
   "cell_type": "code",
   "execution_count": 1,
   "id": "c4068fe8",
   "metadata": {},
   "outputs": [
    {
     "name": "stdout",
     "output_type": "stream",
     "text": [
      "Requirement already satisfied: python-pptx in c:\\users\\sinha\\desktop\\pdf to word\\python-env3.11\\lib\\site-packages (1.0.2)\n",
      "Requirement already satisfied: Pillow>=3.3.2 in c:\\users\\sinha\\desktop\\pdf to word\\python-env3.11\\lib\\site-packages (from python-pptx) (10.4.0)\n",
      "Requirement already satisfied: XlsxWriter>=0.5.7 in c:\\users\\sinha\\desktop\\pdf to word\\python-env3.11\\lib\\site-packages (from python-pptx) (3.2.5)\n",
      "Requirement already satisfied: lxml>=3.1.0 in c:\\users\\sinha\\desktop\\pdf to word\\python-env3.11\\lib\\site-packages (from python-pptx) (6.0.1)\n",
      "Requirement already satisfied: typing-extensions>=4.9.0 in c:\\users\\sinha\\desktop\\pdf to word\\python-env3.11\\lib\\site-packages (from python-pptx) (4.15.0)\n"
     ]
    }
   ],
   "source": [
    "!pip install python-pptx"
   ]
  },
  {
   "cell_type": "code",
   "execution_count": null,
   "id": "3a94004f",
   "metadata": {},
   "outputs": [],
   "source": []
  }
 ],
 "metadata": {
  "kernelspec": {
   "display_name": "PYTHON-ENV3.11",
   "language": "python",
   "name": "python3"
  },
  "language_info": {
   "codemirror_mode": {
    "name": "ipython",
    "version": 3
   },
   "file_extension": ".py",
   "mimetype": "text/x-python",
   "name": "python",
   "nbconvert_exporter": "python",
   "pygments_lexer": "ipython3",
   "version": "3.11.9"
  }
 },
 "nbformat": 4,
 "nbformat_minor": 5
}
